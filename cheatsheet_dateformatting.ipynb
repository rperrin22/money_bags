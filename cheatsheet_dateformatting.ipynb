{
 "cells": [
  {
   "cell_type": "code",
   "execution_count": 8,
   "metadata": {},
   "outputs": [],
   "source": [
    "import pandas as pd\n",
    "import matplotlib.pyplot as plt\n",
    "import matplotlib.dates as mdates\n",
    "from matplotlib.dates import DateFormatter\n",
    "from datetime import date, timedelta\n",
    "import datetime \n",
    "import numpy as np\n",
    "import os\n",
    "import calendar"
   ]
  },
  {
   "cell_type": "code",
   "execution_count": 23,
   "metadata": {},
   "outputs": [
    {
     "name": "stdout",
     "output_type": "stream",
     "text": [
      "Current Local Date: 2021-01-11 15:03:04.372361\n",
      "Adding Seven days:  2021-01-18 15:03:04.372361\n"
     ]
    }
   ],
   "source": [
    "# add some time to datetime\n",
    "dt_now = datetime.datetime.now()\n",
    "print('Current Local Date:', dt_now)\n",
    " \n",
    "add_days = dt_now + datetime.timedelta(days=7)\n",
    "print('Adding Seven days: ', add_days)"
   ]
  },
  {
   "cell_type": "code",
   "execution_count": 24,
   "metadata": {},
   "outputs": [],
   "source": [
    "# difference between two times\n",
    "d1 = datetime.date(2000, 4, 5)\n",
    "d2 = datetime.date(1998, 12, 17)\n",
    "\n",
    "tdiff = d1-d2\n",
    "numdays = tdiff.days\n",
    "numsecs = tdiff.total_seconds()"
   ]
  },
  {
   "cell_type": "code",
   "execution_count": 25,
   "metadata": {},
   "outputs": [
    {
     "name": "stdout",
     "output_type": "stream",
     "text": [
      "April\n"
     ]
    }
   ],
   "source": [
    "# convert number month to string month name\n",
    "def monthnum2str(datenum):\n",
    "    return(calendar.month_name[datenum.month])\n",
    "\n",
    "d1 = datetime.date(2000, 4, 5)\n",
    "yr, m, d = d1.year, d1.month, d1.day\n",
    "\n",
    "mstr = monthnum2str(d1)\n",
    "print(mstr)"
   ]
  }
 ],
 "metadata": {
  "kernelspec": {
   "display_name": "Python 3",
   "language": "python",
   "name": "python3"
  },
  "language_info": {
   "codemirror_mode": {
    "name": "ipython",
    "version": 3
   },
   "file_extension": ".py",
   "mimetype": "text/x-python",
   "name": "python",
   "nbconvert_exporter": "python",
   "pygments_lexer": "ipython3",
   "version": "3.7.6"
  }
 },
 "nbformat": 4,
 "nbformat_minor": 4
}
