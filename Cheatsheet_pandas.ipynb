{
 "cells": [
  {
   "cell_type": "markdown",
   "metadata": {},
   "source": [
    "# Exploring jupyter lab, dtale and cheat sheet for pandas"
   ]
  },
  {
   "cell_type": "raw",
   "metadata": {},
   "source": [
    "This document is a guide to the basics of using functions in pandas\n",
    "Tom Wilson 28 Nov 2020\n",
    "\n",
    "Things to add:\n",
    "\n",
    "- Merging dataframes\n",
    "- Getting nearest neighbour values\n",
    "- Interpolation"
   ]
  },
  {
   "cell_type": "code",
   "execution_count": null,
   "metadata": {},
   "outputs": [],
   "source": [
    "import pandas as pd\n",
    "import matplotlib.pyplot as plt\n",
    "import matplotlib.dates as mdates\n",
    "from matplotlib.dates import DateFormatter\n",
    "from datetime import date, timedelta\n",
    "import datetime \n",
    "import numpy as np\n",
    "import os\n",
    "import calendar\n",
    "import dtale"
   ]
  },
  {
   "cell_type": "code",
   "execution_count": null,
   "metadata": {},
   "outputs": [],
   "source": [
    "# functions to call\n",
    "def getLabels(dtcol):\n",
    "    labs = []\n",
    "    for i in dtcol:\n",
    "        m = calendar.month_name[i.month][:3]   \n",
    "        my = '%s %s' % (m, i.year)\n",
    "        if my not in labs:\n",
    "            labs.append(my)\n",
    "    return(labs)\n",
    "\n",
    "def getyears(dtcol):\n",
    "    yrs = []\n",
    "    for d in dtcol:\n",
    "        yrs.append(d.year)\n",
    "    return(yrs)\n",
    "\n",
    "def strdt2Date(dtcol): # dtstr\n",
    "    Date = []\n",
    "    for i in dtcol:\n",
    "        D = str(i).split(' ')[0].split('-')\n",
    "        y = int(D[0])\n",
    "        m = int(D[1])\n",
    "        d = int(D[2])\n",
    "        Date.append(date(y, m, d))\n",
    "    return(Date)\n"
   ]
  },
  {
   "cell_type": "markdown",
   "metadata": {},
   "source": [
    "# Read in some data to work with"
   ]
  },
  {
   "cell_type": "code",
   "execution_count": 2,
   "metadata": {},
   "outputs": [
    {
     "data": {
      "text/html": [
       "<div>\n",
       "<style scoped>\n",
       "    .dataframe tbody tr th:only-of-type {\n",
       "        vertical-align: middle;\n",
       "    }\n",
       "\n",
       "    .dataframe tbody tr th {\n",
       "        vertical-align: top;\n",
       "    }\n",
       "\n",
       "    .dataframe thead th {\n",
       "        text-align: right;\n",
       "    }\n",
       "</style>\n",
       "<table border=\"1\" class=\"dataframe\">\n",
       "  <thead>\n",
       "    <tr style=\"text-align: right;\">\n",
       "      <th></th>\n",
       "      <th>Date</th>\n",
       "      <th>UH Flow (L/s)</th>\n",
       "      <th>UH Temp (C)</th>\n",
       "      <th>UH EC (mS/cm)</th>\n",
       "      <th>datetime</th>\n",
       "    </tr>\n",
       "  </thead>\n",
       "  <tbody>\n",
       "    <tr>\n",
       "      <th>347</th>\n",
       "      <td>2017-01-17</td>\n",
       "      <td>NaN</td>\n",
       "      <td>27.1</td>\n",
       "      <td>1.420228</td>\n",
       "      <td>2017-01-17</td>\n",
       "    </tr>\n",
       "    <tr>\n",
       "      <th>348</th>\n",
       "      <td>2017-02-01</td>\n",
       "      <td>NaN</td>\n",
       "      <td>NaN</td>\n",
       "      <td>NaN</td>\n",
       "      <td>2017-02-01</td>\n",
       "    </tr>\n",
       "    <tr>\n",
       "      <th>349</th>\n",
       "      <td>2017-02-15</td>\n",
       "      <td>NaN</td>\n",
       "      <td>NaN</td>\n",
       "      <td>NaN</td>\n",
       "      <td>2017-02-15</td>\n",
       "    </tr>\n",
       "    <tr>\n",
       "      <th>350</th>\n",
       "      <td>2017-03-20</td>\n",
       "      <td>NaN</td>\n",
       "      <td>NaN</td>\n",
       "      <td>NaN</td>\n",
       "      <td>2017-03-20</td>\n",
       "    </tr>\n",
       "    <tr>\n",
       "      <th>351</th>\n",
       "      <td>2017-03-29</td>\n",
       "      <td>NaN</td>\n",
       "      <td>NaN</td>\n",
       "      <td>NaN</td>\n",
       "      <td>2017-03-29</td>\n",
       "    </tr>\n",
       "    <tr>\n",
       "      <th>...</th>\n",
       "      <td>...</td>\n",
       "      <td>...</td>\n",
       "      <td>...</td>\n",
       "      <td>...</td>\n",
       "      <td>...</td>\n",
       "    </tr>\n",
       "    <tr>\n",
       "      <th>422</th>\n",
       "      <td>2020-01-21</td>\n",
       "      <td>1.972457</td>\n",
       "      <td>41.2</td>\n",
       "      <td>1.375351</td>\n",
       "      <td>2020-01-21</td>\n",
       "    </tr>\n",
       "    <tr>\n",
       "      <th>423</th>\n",
       "      <td>2020-02-06</td>\n",
       "      <td>1.229616</td>\n",
       "      <td>39.6</td>\n",
       "      <td>1.295345</td>\n",
       "      <td>2020-02-06</td>\n",
       "    </tr>\n",
       "    <tr>\n",
       "      <th>424</th>\n",
       "      <td>2020-02-21</td>\n",
       "      <td>0.632791</td>\n",
       "      <td>36.4</td>\n",
       "      <td>1.352643</td>\n",
       "      <td>2020-02-21</td>\n",
       "    </tr>\n",
       "    <tr>\n",
       "      <th>425</th>\n",
       "      <td>2020-03-19</td>\n",
       "      <td>NaN</td>\n",
       "      <td>NaN</td>\n",
       "      <td>NaN</td>\n",
       "      <td>2020-03-19</td>\n",
       "    </tr>\n",
       "    <tr>\n",
       "      <th>426</th>\n",
       "      <td>2020-06-26</td>\n",
       "      <td>15.861667</td>\n",
       "      <td>41.4</td>\n",
       "      <td>1.206110</td>\n",
       "      <td>2020-06-26</td>\n",
       "    </tr>\n",
       "  </tbody>\n",
       "</table>\n",
       "<p>80 rows × 5 columns</p>\n",
       "</div>"
      ],
      "text/plain": [
       "          Date  UH Flow (L/s)  UH Temp (C)  UH EC (mS/cm)   datetime\n",
       "347 2017-01-17            NaN         27.1       1.420228 2017-01-17\n",
       "348 2017-02-01            NaN          NaN            NaN 2017-02-01\n",
       "349 2017-02-15            NaN          NaN            NaN 2017-02-15\n",
       "350 2017-03-20            NaN          NaN            NaN 2017-03-20\n",
       "351 2017-03-29            NaN          NaN            NaN 2017-03-29\n",
       "..         ...            ...          ...            ...        ...\n",
       "422 2020-01-21       1.972457         41.2       1.375351 2020-01-21\n",
       "423 2020-02-06       1.229616         39.6       1.295345 2020-02-06\n",
       "424 2020-02-21       0.632791         36.4       1.352643 2020-02-21\n",
       "425 2020-03-19            NaN          NaN            NaN 2020-03-19\n",
       "426 2020-06-26      15.861667         41.4       1.206110 2020-06-26\n",
       "\n",
       "[80 rows x 5 columns]"
      ]
     },
     "execution_count": 2,
     "metadata": {},
     "output_type": "execute_result"
    }
   ],
   "source": [
    "start_date = '2017-01-05' # must be a date in the dataframe\n",
    "end_date = '2020-12-31'\n",
    "\n",
    "mdata = 'C:\\\\Users\\\\tdwil\\\\Dropbox\\\\PhD_project\\\\Geochemistry\\\\BanffData_2020-09-07\\\\Allsprings_COMBINED.xlsx'\n",
    "df1 = pd.read_excel(mdata, usecols = \"A:D\")\n",
    "df1['datetime'] = pd.to_datetime(df1['Date'])  "
   ]
  },
  {
   "cell_type": "markdown",
   "metadata": {},
   "source": [
    "# Getting information about the dataframe"
   ]
  },
  {
   "cell_type": "raw",
   "metadata": {},
   "source": [
    "https://pythoninoffice.com/get-values-rows-and-columns-in-pandas-dataframe/"
   ]
  },
  {
   "cell_type": "code",
   "execution_count": null,
   "metadata": {},
   "outputs": [],
   "source": [
    "# list of row indices\n",
    "row_inds = df1.index\n",
    "\n",
    "# list of column (header) names\n",
    "col_inds = df1.columns \n",
    "\n",
    "# get dataframe shape\n",
    "df1_shape = df1.shape "
   ]
  },
  {
   "cell_type": "markdown",
   "metadata": {},
   "source": [
    "# Getting data from the dataframe"
   ]
  },
  {
   "cell_type": "code",
   "execution_count": 24,
   "metadata": {},
   "outputs": [],
   "source": [
    "# get df column by name\n",
    "col_data = df1['Date']\n",
    "\n",
    "# get df column by column index\n",
    "col_data = df1['Date']\n",
    "\n",
    "# get row by df index \n",
    "ind = 400\n",
    "row_data = df1.loc[ind]\n",
    "\n",
    "# get row by df row number \n",
    "rownum = 1\n",
    "row_data = df1.iloc[rownum]\n",
    "\n",
    "# get a specific object in a dataframe\n",
    "col = 'Date'\n",
    "x = df1.loc[ind,col]\n",
    "\n",
    "# slicing the dataframe\n",
    "df = df1.loc[ind:ind+20]"
   ]
  },
  {
   "cell_type": "markdown",
   "metadata": {},
   "source": [
    "# Cleaning the data"
   ]
  },
  {
   "cell_type": "code",
   "execution_count": null,
   "metadata": {},
   "outputs": [],
   "source": [
    "# drop rows that have any nan data points\n",
    "df = df1.dropna()\n",
    "\n",
    "# drop rows that have nan data points in a particular column\n",
    "df = df1.dropna(subset=['Date'])\n",
    "\n",
    "# dropping columns\n",
    "df = df1.drop(['UH EC (mS/cm)' , 'datetime'] , axis='columns')\n",
    "\n",
    "# dropping rows with blanks ???\n",
    "\n",
    "# removing white space from strings in column (needs work)\n",
    "# https://stackoverflow.com/questions/29314033/drop-rows-containing-empty-cells-from-a-pandas-dataframe\n",
    "# df = df1[df1['B'].str.strip().astype(bool)]\n",
    "\n",
    "# selecting only a subsut of columns \n",
    "df = df1[['Date','UH Flow (L/s)']]\n",
    "\n",
    "# renaming columns\n",
    "df = df1.rename(columns = {'datetime':'DateTime'}, inplace = False)\n",
    "\n",
    "# reduce dataframe to data between start_date and end_date\n",
    "temp_mask = (df1['datetime'] > start_date) & (df1['datetime'] <= end_date)\n",
    "df1 = df1.loc[temp_mask]\n",
    "\n",
    "# replace blanks with nan\n",
    "df1['UH Temp (C)'] = df1['UH Temp (C)'].replace(r'^\\s+$', np.nan, regex=True)"
   ]
  },
  {
   "cell_type": "markdown",
   "metadata": {},
   "source": [
    "# Grouping data "
   ]
  },
  {
   "cell_type": "code",
   "execution_count": null,
   "metadata": {},
   "outputs": [],
   "source": [
    "# grouping dates by year (adds a year column to dataframe) \n",
    "df1['Year'] = getyears(df1['Date']) "
   ]
  },
  {
   "cell_type": "markdown",
   "metadata": {},
   "source": [
    "# Testing a condition on a column (and extracting data if condition is meet)"
   ]
  },
  {
   "cell_type": "code",
   "execution_count": 25,
   "metadata": {},
   "outputs": [
    {
     "data": {
      "text/html": [
       "<div>\n",
       "<style scoped>\n",
       "    .dataframe tbody tr th:only-of-type {\n",
       "        vertical-align: middle;\n",
       "    }\n",
       "\n",
       "    .dataframe tbody tr th {\n",
       "        vertical-align: top;\n",
       "    }\n",
       "\n",
       "    .dataframe thead th {\n",
       "        text-align: right;\n",
       "    }\n",
       "</style>\n",
       "<table border=\"1\" class=\"dataframe\">\n",
       "  <thead>\n",
       "    <tr style=\"text-align: right;\">\n",
       "      <th></th>\n",
       "      <th>Date</th>\n",
       "      <th>UH Flow (L/s)</th>\n",
       "    </tr>\n",
       "  </thead>\n",
       "  <tbody>\n",
       "    <tr>\n",
       "      <th>347</th>\n",
       "      <td>2017-01-17</td>\n",
       "      <td>NaN</td>\n",
       "    </tr>\n",
       "    <tr>\n",
       "      <th>348</th>\n",
       "      <td>2017-02-01</td>\n",
       "      <td>NaN</td>\n",
       "    </tr>\n",
       "    <tr>\n",
       "      <th>349</th>\n",
       "      <td>2017-02-15</td>\n",
       "      <td>NaN</td>\n",
       "    </tr>\n",
       "    <tr>\n",
       "      <th>350</th>\n",
       "      <td>2017-03-20</td>\n",
       "      <td>NaN</td>\n",
       "    </tr>\n",
       "    <tr>\n",
       "      <th>351</th>\n",
       "      <td>2017-03-29</td>\n",
       "      <td>NaN</td>\n",
       "    </tr>\n",
       "    <tr>\n",
       "      <th>...</th>\n",
       "      <td>...</td>\n",
       "      <td>...</td>\n",
       "    </tr>\n",
       "    <tr>\n",
       "      <th>422</th>\n",
       "      <td>2020-01-21</td>\n",
       "      <td>1.972457</td>\n",
       "    </tr>\n",
       "    <tr>\n",
       "      <th>423</th>\n",
       "      <td>2020-02-06</td>\n",
       "      <td>1.229616</td>\n",
       "    </tr>\n",
       "    <tr>\n",
       "      <th>424</th>\n",
       "      <td>2020-02-21</td>\n",
       "      <td>0.632791</td>\n",
       "    </tr>\n",
       "    <tr>\n",
       "      <th>425</th>\n",
       "      <td>2020-03-19</td>\n",
       "      <td>NaN</td>\n",
       "    </tr>\n",
       "    <tr>\n",
       "      <th>426</th>\n",
       "      <td>2020-06-26</td>\n",
       "      <td>15.861667</td>\n",
       "    </tr>\n",
       "  </tbody>\n",
       "</table>\n",
       "<p>80 rows × 2 columns</p>\n",
       "</div>"
      ],
      "text/plain": [
       "          Date  UH Flow (L/s)\n",
       "347 2017-01-17            NaN\n",
       "348 2017-02-01            NaN\n",
       "349 2017-02-15            NaN\n",
       "350 2017-03-20            NaN\n",
       "351 2017-03-29            NaN\n",
       "..         ...            ...\n",
       "422 2020-01-21       1.972457\n",
       "423 2020-02-06       1.229616\n",
       "424 2020-02-21       0.632791\n",
       "425 2020-03-19            NaN\n",
       "426 2020-06-26      15.861667\n",
       "\n",
       "[80 rows x 2 columns]"
      ]
     },
     "execution_count": 25,
     "metadata": {},
     "output_type": "execute_result"
    }
   ],
   "source": []
  },
  {
   "cell_type": "code",
   "execution_count": null,
   "metadata": {},
   "outputs": [],
   "source": [
    "# Merging dataframes\n"
   ]
  },
  {
   "cell_type": "code",
   "execution_count": null,
   "metadata": {},
   "outputs": [],
   "source": [
    "# https://www.geeksforgeeks.org/iterating-over-rows-and-columns-in-pandas-dataframe/\n",
    "\n",
    "# iterating over rows using iterrows() function  \n",
    "for irow, jcol in df.iterrows(): \n",
    "    print(irow, jcol) # (row index, column index)\n"
   ]
  },
  {
   "cell_type": "code",
   "execution_count": 28,
   "metadata": {},
   "outputs": [
    {
     "data": {
      "text/html": [
       "\n",
       "        <iframe\n",
       "            width=\"100%\"\n",
       "            height=\"475\"\n",
       "            src=\"http://LAPTOP-D2R2FVSN:40000/dtale/iframe/2\"\n",
       "            frameborder=\"0\"\n",
       "            allowfullscreen\n",
       "        ></iframe>\n",
       "        "
      ],
      "text/plain": [
       "<IPython.lib.display.IFrame at 0x1c69f29ce48>"
      ]
     },
     "metadata": {},
     "output_type": "display_data"
    },
    {
     "data": {
      "text/plain": []
     },
     "execution_count": 28,
     "metadata": {},
     "output_type": "execute_result"
    }
   ],
   "source": [
    "# using dtale\n",
    "\n",
    "import dtale\n",
    "dtale.show(df1, ignore_duplicate=True)"
   ]
  },
  {
   "cell_type": "code",
   "execution_count": null,
   "metadata": {},
   "outputs": [],
   "source": []
  }
 ],
 "metadata": {
  "kernelspec": {
   "display_name": "Python 3",
   "language": "python",
   "name": "python3"
  },
  "language_info": {
   "codemirror_mode": {
    "name": "ipython",
    "version": 3
   },
   "file_extension": ".py",
   "mimetype": "text/x-python",
   "name": "python",
   "nbconvert_exporter": "python",
   "pygments_lexer": "ipython3",
   "version": "3.7.6"
  }
 },
 "nbformat": 4,
 "nbformat_minor": 4
}
