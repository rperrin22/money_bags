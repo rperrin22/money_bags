{
 "cells": [
  {
   "cell_type": "code",
   "execution_count": 1,
   "metadata": {},
   "outputs": [],
   "source": [
    "import re\n",
    "import sys"
   ]
  },
  {
   "cell_type": "code",
   "execution_count": 6,
   "metadata": {},
   "outputs": [
    {
     "name": "stdout",
     "output_type": "stream",
     "text": [
      "test in this is a test\n",
      "none\n"
     ]
    }
   ],
   "source": [
    "# basic example \n",
    "regex_pattern = r\"test\" # case sensitive\n",
    "test_string = \"this is a test\"\n",
    "\n",
    "match = re.match(regex_pattern, test_string) # True if match False if not\n",
    "\n",
    "if match == None:\n",
    "    print('%s in %s' % (regex_pattern, test_string))\n",
    "    \n",
    "print(str(match).lower())"
   ]
  },
  {
   "cell_type": "code",
   "execution_count": null,
   "metadata": {},
   "outputs": [],
   "source": []
  }
 ],
 "metadata": {
  "kernelspec": {
   "display_name": "Python 3",
   "language": "python",
   "name": "python3"
  },
  "language_info": {
   "codemirror_mode": {
    "name": "ipython",
    "version": 3
   },
   "file_extension": ".py",
   "mimetype": "text/x-python",
   "name": "python",
   "nbconvert_exporter": "python",
   "pygments_lexer": "ipython3",
   "version": "3.7.6"
  }
 },
 "nbformat": 4,
 "nbformat_minor": 4
}
